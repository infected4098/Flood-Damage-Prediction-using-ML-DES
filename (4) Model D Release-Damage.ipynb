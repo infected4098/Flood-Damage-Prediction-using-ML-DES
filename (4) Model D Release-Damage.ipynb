{
 "cells": [
  {
   "cell_type": "code",
   "execution_count": 79,
   "id": "8932f210",
   "metadata": {},
   "outputs": [],
   "source": [
    "#예측 모델\n",
    "from sklearn.model_selection import train_test_split\n",
    "from sklearn.ensemble import RandomForestRegressor\n",
    "from sklearn.ensemble import VotingRegressor\n",
    "from sklearn.preprocessing import PolynomialFeatures\n",
    "from sklearn.svm import SVR\n",
    "from sklearn.linear_model import LinearRegression\n",
    "from sklearn.linear_model import ElasticNet\n",
    "from sklearn.linear_model import Lasso\n",
    "from sklearn.ensemble import GradientBoostingRegressor, GradientBoostingClassifier\n",
    "from sklearn.model_selection import GridSearchCV\n",
    "from sklearn.linear_model import Ridge\n",
    "from sklearn.pipeline import Pipeline\n",
    "from sklearn.pipeline import make_pipeline\n",
    "import lightgbm as lgb\n",
    "import eli5\n",
    "from eli5.sklearn import PermutationImportance\n",
    "from statsmodels.tsa.api import ExponentialSmoothing, SimpleExpSmoothing, Holt\n",
    "#기초 모듈\n",
    "import numpy as np\n",
    "import pandas as pd\n",
    "\n",
    "\n",
    "#평가지표\n",
    "from sklearn.metrics import mean_squared_log_error\n",
    "from sklearn.metrics import r2_score\n",
    "from sklearn.metrics import mean_squared_error\n",
    "#그림\n",
    "import seaborn as sns\n",
    "import matplotlib.pyplot as plt\n",
    "#ignore warning\n",
    "import warnings\n",
    "warnings.filterwarnings(\"ignore\")\n",
    "#GridsearchCV\n"
   ]
  },
  {
   "cell_type": "code",
   "execution_count": 49,
   "id": "16b50ddd",
   "metadata": {},
   "outputs": [],
   "source": [
    "#추가 정보는 유역, 저수, 침수\n",
    "Addinfo={\"BS\": [1309.7, 457, 10.75], \"HM\": [763, 466, 320], \"SU\": [3383, 466, 6], \"PN\": [374.3, 466, 4], \"YC\": [565, 466, 0], \"GC\": [1010, 457, 3.65]}\n",
    "\n",
    "motherdir2=\"C:/Users/infec/Desktop/수자원공사 공모전/사진파일/\"\n",
    "#수위, 유역,  저수용량, 침수\n",
    "RegCoef=[-7.08457020e+05, 6.46888454e+01, 5.62264433e+03, 2.08078043e+04]"
   ]
  },
  {
   "cell_type": "code",
   "execution_count": 85,
   "id": "28cc443e",
   "metadata": {},
   "outputs": [
    {
     "data": {
      "text/html": [
       "<div>\n",
       "<style scoped>\n",
       "    .dataframe tbody tr th:only-of-type {\n",
       "        vertical-align: middle;\n",
       "    }\n",
       "\n",
       "    .dataframe tbody tr th {\n",
       "        vertical-align: top;\n",
       "    }\n",
       "\n",
       "    .dataframe thead th {\n",
       "        text-align: right;\n",
       "    }\n",
       "</style>\n",
       "<table border=\"1\" class=\"dataframe\">\n",
       "  <thead>\n",
       "    <tr style=\"text-align: right;\">\n",
       "      <th></th>\n",
       "      <th>주암댐</th>\n",
       "    </tr>\n",
       "    <tr>\n",
       "      <th>Date</th>\n",
       "      <th></th>\n",
       "    </tr>\n",
       "  </thead>\n",
       "  <tbody>\n",
       "    <tr>\n",
       "      <th>2019-06-21</th>\n",
       "      <td>13.74</td>\n",
       "    </tr>\n",
       "    <tr>\n",
       "      <th>2019-06-22</th>\n",
       "      <td>12.84</td>\n",
       "    </tr>\n",
       "    <tr>\n",
       "      <th>2019-06-23</th>\n",
       "      <td>13.84</td>\n",
       "    </tr>\n",
       "    <tr>\n",
       "      <th>2019-06-24</th>\n",
       "      <td>13.59</td>\n",
       "    </tr>\n",
       "    <tr>\n",
       "      <th>2019-06-25</th>\n",
       "      <td>12.57</td>\n",
       "    </tr>\n",
       "    <tr>\n",
       "      <th>...</th>\n",
       "      <td>...</td>\n",
       "    </tr>\n",
       "    <tr>\n",
       "      <th>2021-09-04</th>\n",
       "      <td>18.35</td>\n",
       "    </tr>\n",
       "    <tr>\n",
       "      <th>2021-09-05</th>\n",
       "      <td>17.84</td>\n",
       "    </tr>\n",
       "    <tr>\n",
       "      <th>2021-09-06</th>\n",
       "      <td>17.88</td>\n",
       "    </tr>\n",
       "    <tr>\n",
       "      <th>2021-09-07</th>\n",
       "      <td>17.78</td>\n",
       "    </tr>\n",
       "    <tr>\n",
       "      <th>2021-09-08</th>\n",
       "      <td>17.35</td>\n",
       "    </tr>\n",
       "  </tbody>\n",
       "</table>\n",
       "<p>160 rows × 1 columns</p>\n",
       "</div>"
      ],
      "text/plain": [
       "              주암댐\n",
       "Date             \n",
       "2019-06-21  13.74\n",
       "2019-06-22  12.84\n",
       "2019-06-23  13.84\n",
       "2019-06-24  13.59\n",
       "2019-06-25  12.57\n",
       "...           ...\n",
       "2021-09-04  18.35\n",
       "2021-09-05  17.84\n",
       "2021-09-06  17.88\n",
       "2021-09-07  17.78\n",
       "2021-09-08  17.35\n",
       "\n",
       "[160 rows x 1 columns]"
      ]
     },
     "execution_count": 85,
     "metadata": {},
     "output_type": "execute_result"
    }
   ],
   "source": [
    "totaldf=pd.read_csv(\"C:/Users/infec/Desktop/수자원공사 공모전/사진파일/Totaldf.csv\", encoding=\"cp949\")\n",
    "JA=totaldf[[\"Date\", \"주암댐\"]]\n",
    "JA.set_index([\"Date\"], inplace=True)\n"
   ]
  },
  {
   "cell_type": "code",
   "execution_count": null,
   "id": "7e5989fe",
   "metadata": {},
   "outputs": [],
   "source": []
  },
  {
   "cell_type": "code",
   "execution_count": 3,
   "id": "ddbce4ee",
   "metadata": {},
   "outputs": [],
   "source": [
    "Totaldf=pd.read_csv(motherdir2+\"Totaldf.csv\")\n",
    "df2021=pd.read_csv(motherdir2+\"DF2021.csv\")"
   ]
  },
  {
   "cell_type": "code",
   "execution_count": 4,
   "id": "182afeab",
   "metadata": {},
   "outputs": [],
   "source": [
    "GC_level_est=RandomForestRegressor(bootstrap=True, max_depth=3, min_samples_split=3, n_estimators=30 )\n",
    "BS_rf=RandomForestRegressor(bootstrap=True, max_depth=3, min_samples_split=3, n_estimators=30)\n",
    "\n",
    "BS_poly=Pipeline([(\"poly\", PolynomialFeatures(degree=1)), (\"linear\", LinearRegression())])\n",
    "\n",
    "BS_level_est=VotingRegressor([(\"RF\", BS_rf), (\"POLY\", BS_poly)])\n",
    "SU_level_est=RandomForestRegressor(bootstrap=True, max_depth=7, min_samples_split=3, n_estimators=40)\n",
    "YC_level_est=RandomForestRegressor(bootstrap=True, max_depth=3, min_samples_split=3, n_estimators=40)\n",
    "HM_level_est=RandomForestRegressor(bootstrap=True, min_samples_split=3, n_estimators=50, max_depth=3)\n",
    "PN_level_est=RandomForestRegressor(bootstrap=True, max_depth=3, min_samples_split=3, n_estimators=80)\n"
   ]
  },
  {
   "cell_type": "code",
   "execution_count": 5,
   "id": "56e5cdb4",
   "metadata": {},
   "outputs": [],
   "source": [
    "#outlier 제거하는 함수 만들기 \n",
    "def remove_outlier(point, weight=1.5, year=None):\n",
    "    data=year[[point]]\n",
    "    level_1q=data.quantile(0.25)\n",
    "    level_3q=data.quantile(0.75)\n",
    "    IQR=level_3q-level_1q\n",
    "    data=data[(data<=level_3q+(weight*IQR) )&( data>=level_1q-(weight*IQR))]\n",
    "    data.dropna(inplace=True)\n",
    "    return data\n",
    "def find_outlier(point, weight=1.5, year=None):\n",
    "    data=year[[point]]\n",
    "    level_1q=data.quantile(0.25)\n",
    "    level_3q=data.quantile(0.75)\n",
    "    IQR=level_3q-level_1q\n",
    "    data=data[(data>level_3q+(weight*IQR) ) |( data<level_1q-(weight*IQR))]\n",
    "    data.dropna(inplace=True)\n",
    "    return data\n",
    "#광천교를 예시로 한번 해보자 \n",
    "\n",
    "#학습 위한 함수 작성\n",
    "def tillsplit(point=None, spec=None, spw=1.5, dam=None):\n",
    "    y_data=remove_outlier(point, weight=spw, year=spec)\n",
    "    x=Totaldf[[dam]].loc[y_data.index][[dam]]\n",
    "    y=y_data.copy()\n",
    "    y=y.values\n",
    "    X_train, X_test, y_train, y_test=train_test_split(x, y, test_size=0.2, random_state=156)\n",
    "    return X_train, X_test, y_train, y_test, x, y\n",
    "def twosplit(point=None, spec=None, spw=1.5, dam=None):\n",
    "    y_data=remove_outlier(point, weight=spw, year=spec)\n",
    "    x=Totaldf[dam].loc[y_data.index].values\n",
    "    y=y_data.copy()\n",
    "    y=y.values\n",
    "    X_train, X_test, y_train, y_test=train_test_split(x, y, test_size=0.2, random_state=156)\n",
    "    return X_train, X_test, y_train, y_test, x, y\n",
    "\n",
    "#평가지표 별 점수 나타낼 함수 만들기\n",
    "def RMSE(value):\n",
    "    return np.sqrt(value)\n",
    "scorename=[\"RMSE\", \"R2\", \"MSLE\"]\n",
    "def accuracy_score(test=None, real=None):\n",
    "    global scorelist\n",
    "    scorelist=[]\n",
    "    rmse=RMSE(mean_squared_error(test, real))\n",
    "    print(\"RMSE score: \", rmse, \"\\n\")\n",
    "    r2=r2_score(test, real)\n",
    "    print(\"r2 score: \", r2, \"\\n\")\n",
    "    msle=mean_squared_log_error(test, real)\n",
    "    print(\"MSLE: \", msle)\n",
    "    scorelist.append(rmse)\n",
    "    scorelist.append(r2)\n",
    "    scorelist.append(msle)\n",
    "    return scorelist"
   ]
  },
  {
   "cell_type": "code",
   "execution_count": 6,
   "id": "80fc0d81",
   "metadata": {},
   "outputs": [],
   "source": [
    "X_train, X_test, y_train, y_test, total_x, total_y=tillsplit(point=\"PN\", spec=df2021, spw=1.5, dam=\"섬진강\")\n",
    "PN_level_est.fit(X_train, y_train)\n",
    "PNpred=PN_level_est.predict(X_test)\n"
   ]
  },
  {
   "cell_type": "code",
   "execution_count": 7,
   "id": "d509a63f",
   "metadata": {},
   "outputs": [],
   "source": [
    "HM_level_est.fit(X_train, y_train)\n",
    "HMpred=HM_level_est.predict(X_test)\n"
   ]
  },
  {
   "cell_type": "code",
   "execution_count": 8,
   "id": "0890ac9b",
   "metadata": {},
   "outputs": [],
   "source": [
    "X_train, X_test, y_train, y_test, total_x, total_y=twosplit(point=\"YC\", spec=df2021, spw=1.5, dam=[\"섬진강\",\"주암댐\"])\n",
    "YC_level_est.fit(X_train, y_train)\n",
    "YCpred=YC_level_est.predict(X_test)\n"
   ]
  },
  {
   "cell_type": "code",
   "execution_count": 9,
   "id": "a00bdc1d",
   "metadata": {},
   "outputs": [],
   "source": [
    "BS_level_est.fit(X_train, y_train)\n",
    "BSpred=BS_level_est.predict(X_test)\n"
   ]
  },
  {
   "cell_type": "code",
   "execution_count": 10,
   "id": "09433876",
   "metadata": {},
   "outputs": [],
   "source": [
    "GC_level_est.fit(X_train, y_train)\n",
    "GCpred=GC_level_est.predict(X_test)\n"
   ]
  },
  {
   "cell_type": "code",
   "execution_count": 11,
   "id": "6528aa48",
   "metadata": {},
   "outputs": [],
   "source": [
    "SU_level_est.fit(X_train, y_train)\n",
    "SUpred=SU_level_est.predict(X_test)\n"
   ]
  },
  {
   "cell_type": "code",
   "execution_count": 36,
   "id": "c130e497",
   "metadata": {},
   "outputs": [],
   "source": [
    "easy={\"SU\": SU_level_est, \"GC\": GC_level_est, \"YC\": YC_level_est, \"HM\": HM_level_est, \"PN\": PN_level_est, \"BS\": BS_level_est}\n",
    "def ModelA(point=\"\", release=[0., 0. ]):\n",
    "    \n",
    "    if point in [\"HM\", \"PN\"]:\n",
    "        model=easy[point]\n",
    "        X_data=np.array(release[0]).reshape(-1, 1)\n",
    "        level_est=model.predict(X_data)\n",
    "    else:\n",
    "        model=easy[point]\n",
    "        X_data=np.array(release).reshape(1, -1)\n",
    "        level_est=model.predict(X_data)\n",
    "    return level_est\n"
   ]
  },
  {
   "cell_type": "code",
   "execution_count": 37,
   "id": "8985b85f",
   "metadata": {},
   "outputs": [
    {
     "data": {
      "text/plain": [
       "array([2.19645249])"
      ]
     },
     "execution_count": 37,
     "metadata": {},
     "output_type": "execute_result"
    }
   ],
   "source": [
    "#example\n",
    "ModelA(point=\"YC\", release=[31.67, 32.2])"
   ]
  },
  {
   "cell_type": "code",
   "execution_count": 43,
   "id": "09761e1e",
   "metadata": {},
   "outputs": [],
   "source": [
    "def ModelB(point=\"\", level_est=0):\n",
    "    infolist=Addinfo[point]\n",
    "    return RegCoef[0]*level_est+RegCoef[1]* infolist[0]+RegCoef[2]* infolist[1]+RegCoef[3]* infolist[2]+209621.75162723"
   ]
  },
  {
   "cell_type": "code",
   "execution_count": 80,
   "id": "84df33b4",
   "metadata": {},
   "outputs": [
    {
     "data": {
      "text/plain": [
       "array([8296301.09584141])"
      ]
     },
     "execution_count": 80,
     "metadata": {},
     "output_type": "execute_result"
    }
   ],
   "source": [
    "#연습\n",
    "PR=ModelA(point=\"HM\", release=[31.67, 32.2])\n",
    "ModelB(point=\"HM\", level_est=PR)"
   ]
  },
  {
   "cell_type": "code",
   "execution_count": 89,
   "id": "866f1045",
   "metadata": {},
   "outputs": [],
   "source": [
    "Best_time_fit=SimpleExpSmoothing(JA, initialization_method=\"heuristic\").fit(smoothing_level=0.995, optimized=False)\n",
    "def ModelC():\n",
    "    origin=Best_time_fit.fittedvalues\n",
    "    fcast=Best_time_fit.forecast(13)\n",
    "    file= pd.concat([origin, fcast], axis=0)\n",
    "    exp=file[-1:]\n",
    "    return file, exp"
   ]
  },
  {
   "cell_type": "code",
   "execution_count": 93,
   "id": "97e7f92b",
   "metadata": {},
   "outputs": [
    {
     "data": {
      "text/plain": [
       "2021-09-02    19.231261\n",
       "2021-09-03    19.080756\n",
       "2021-09-04    18.662104\n",
       "2021-09-05    18.351561\n",
       "2021-09-06    17.842558\n",
       "2021-09-07    17.879813\n",
       "2021-09-08    17.780499\n",
       "160           17.352152\n",
       "161           17.352152\n",
       "162           17.352152\n",
       "163           17.352152\n",
       "164           17.352152\n",
       "165           17.352152\n",
       "166           17.352152\n",
       "167           17.352152\n",
       "168           17.352152\n",
       "169           17.352152\n",
       "170           17.352152\n",
       "171           17.352152\n",
       "172           17.352152\n",
       "dtype: float64"
      ]
     },
     "execution_count": 93,
     "metadata": {},
     "output_type": "execute_result"
    }
   ],
   "source": [
    "file1, exp=ModelC()\n",
    "file1.tail(20)"
   ]
  },
  {
   "cell_type": "code",
   "execution_count": 100,
   "id": "7eeae5a7",
   "metadata": {},
   "outputs": [
    {
     "data": {
      "text/plain": [
       "array([8296301.09584141])"
      ]
     },
     "execution_count": 100,
     "metadata": {},
     "output_type": "execute_result"
    }
   ],
   "source": [
    "def ModelD(point=\"\", release=[0.0, 0.0]):\n",
    "    level_est=ModelA(point=point, release=release)\n",
    "    damage_est=ModelB(point=point, level_est=level_est)\n",
    "    return damage_est\n",
    "\n",
    "\n",
    "#case 1 : 11일전 방류량이 [31.67, 17.7804]일 때\n",
    "\n",
    "file1, exp=ModelC()\n",
    "\n",
    "ModelD(point=\"HM\", release=[31.67, exp])"
   ]
  },
  {
   "cell_type": "code",
   "execution_count": null,
   "id": "8f65122d",
   "metadata": {},
   "outputs": [],
   "source": []
  },
  {
   "cell_type": "code",
   "execution_count": null,
   "id": "18b0a308",
   "metadata": {},
   "outputs": [],
   "source": []
  },
  {
   "cell_type": "code",
   "execution_count": 44,
   "id": "e5b16df3",
   "metadata": {},
   "outputs": [
    {
     "data": {
      "text/plain": [
       "array([16674039.74147761])"
      ]
     },
     "execution_count": 44,
     "metadata": {},
     "output_type": "execute_result"
    }
   ],
   "source": []
  },
  {
   "cell_type": "markdown",
   "id": "cea3accc",
   "metadata": {},
   "source": []
  },
  {
   "cell_type": "code",
   "execution_count": null,
   "id": "979adf93",
   "metadata": {},
   "outputs": [],
   "source": []
  },
  {
   "cell_type": "code",
   "execution_count": 103,
   "id": "59ca6e93",
   "metadata": {},
   "outputs": [],
   "source": [
    "#모든 지점에 대한 ModelC값 표현하기 \n",
    "#기준은 m^3/s\n",
    "def everymodelD(release=[0.0, 0.0]):\n",
    "    for i in Addinfo.keys():\n",
    "        print( i, \"지점의 11일 후 피해액은 \", (ModelD(point=i, release=release)).reshape(-1), \"입니다\")\n",
    "        "
   ]
  },
  {
   "cell_type": "code",
   "execution_count": 102,
   "id": "cdeead4e",
   "metadata": {},
   "outputs": [
    {
     "name": "stdout",
     "output_type": "stream",
     "text": [
      "오늘 섬진강댐 방류량은 31.67, 주암댐 방류량은 17.7804 입니다\n",
      "BS 지점의 11일 후 피해액은  [1522324.5477196] 입니다\n",
      "HM 지점의 11일 후 피해액은  [8296301.09584141] 입니다\n",
      "SU 지점의 11일 후 피해액은  [1629116.2318148] 입니다\n",
      "PN 지점의 11일 후 피해액은  [1688509.1589952] 입니다\n",
      "YC 지점의 11일 후 피해액은  [1314110.47406246] 입니다\n",
      "GC 지점의 11일 후 피해액은  [1364465.69782509] 입니다\n"
     ]
    }
   ],
   "source": [
    "print('오늘 섬진강댐 방류량은 31.67, 주암댐 방류량은 17.7804 입니다')\n",
    "everymodelD(release=[31.67, exp])"
   ]
  },
  {
   "cell_type": "code",
   "execution_count": 64,
   "id": "7ec307e5",
   "metadata": {},
   "outputs": [
    {
     "data": {
      "text/plain": [
       "RandomForestRegressor(max_depth=7, min_samples_split=3, n_estimators=40)"
      ]
     },
     "execution_count": 64,
     "metadata": {},
     "output_type": "execute_result"
    }
   ],
   "source": []
  },
  {
   "cell_type": "code",
   "execution_count": null,
   "id": "492d9536",
   "metadata": {},
   "outputs": [],
   "source": []
  },
  {
   "cell_type": "code",
   "execution_count": null,
   "id": "55609e7b",
   "metadata": {},
   "outputs": [],
   "source": []
  },
  {
   "cell_type": "code",
   "execution_count": null,
   "id": "9b993c91",
   "metadata": {},
   "outputs": [],
   "source": []
  },
  {
   "cell_type": "code",
   "execution_count": null,
   "id": "a898fddc",
   "metadata": {},
   "outputs": [],
   "source": []
  }
 ],
 "metadata": {
  "kernelspec": {
   "display_name": "Python 3 (ipykernel)",
   "language": "python",
   "name": "python3"
  },
  "language_info": {
   "codemirror_mode": {
    "name": "ipython",
    "version": 3
   },
   "file_extension": ".py",
   "mimetype": "text/x-python",
   "name": "python",
   "nbconvert_exporter": "python",
   "pygments_lexer": "ipython3",
   "version": "3.9.7"
  }
 },
 "nbformat": 4,
 "nbformat_minor": 5
}
